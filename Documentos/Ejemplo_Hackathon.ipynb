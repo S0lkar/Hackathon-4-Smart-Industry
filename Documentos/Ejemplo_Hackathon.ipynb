{
 "cells": [
  {
   "attachments": {},
   "cell_type": "markdown",
   "metadata": {},
   "source": [
    "# Tecnologías disponibles durante el hackathon\n",
    "\n",
    "* Tened en cuenta que el reto tiene múltiples dimensiones, y que vamos a evaluar:\n",
    "    1- Diseño y funcionalidad\n",
    "    2- Creatividad e innovación\n",
    "    3- Factibilidad\n",
    "    4- Escalabilidad\n",
    "    5- Presentación\n",
    "\n",
    "* Es importante que intentéis buscar un equilibrio en el tiempo que dedicáis a las distintas \"aristas\" que tiene el problema.\n",
    "\n",
    "* Respecto al nucleo de la eventual aplicación que desarrolléis, podéis usar cualquier tecnología de IA generativa a la que tengáis acceso. No obstante, para garantizar que todos tenéis acceso a un LLM desde un enfoque programático, vamos a compartir para cada equipo una clave para usar GPT 3.5 Turbo a través de la API de OpenAI.\n",
    "\n",
    "* Tendréis más instrucciones el viernes. Vamos a ver ahora un breve ejemplo de cómo funcionaríamos"
   ]
  },
  {
   "cell_type": "code",
   "execution_count": 1,
   "metadata": {},
   "outputs": [],
   "source": [
    "# Set-up\n",
    "# Importaciones + conexión con API de OpenAI + funciones auxiliares\n",
    "import openai\n",
    "import os\n",
    "import json\n",
    "\n",
    "#api_key = os.getenv('OPENAI_API_KEY')\n",
    "\n",
    "#Cargar API key\n",
    "with open('clave.json') as f:\n",
    "    data = json.load(f)\n",
    "    api_key = data['key']\n",
    "\n",
    "openai.api_key = api_key\n",
    "\n",
    "#Función para interactuar con modelo de la API\n",
    "def get_completion(prompt, model=\"gpt-3.5-turbo\"):\n",
    "    messages = [{\"role\": \"user\", \"content\": prompt}]\n",
    "    response = openai.ChatCompletion.create(\n",
    "        model=model,\n",
    "        messages=messages,\n",
    "        temperature=0, \n",
    "    )\n",
    "    return response.choices[0].message[\"content\"]\n",
    "\n",
    "#Función para contar palabras\n",
    "def count_words(text):\n",
    "    # Split the string into words using whitespace as the delimiter\n",
    "    words = text.split()\n",
    "    \n",
    "    # Return the count of words\n",
    "    return len(words)\n"
   ]
  },
  {
   "cell_type": "markdown",
   "metadata": {},
   "source": [
    "## Resumen de un texto "
   ]
  },
  {
   "cell_type": "code",
   "execution_count": 10,
   "metadata": {},
   "outputs": [
    {
     "name": "stdout",
     "output_type": "stream",
     "text": [
      "Vodafone busca fusionarse con Three para aumentar su rentabilidad y competir en el mercado británico de telefonía móvil.\n",
      "El resumen tiene 18 palabras\n"
     ]
    }
   ],
   "source": [
    "with open('noticia.txt', 'r') as file:\n",
    "    # Lee el contenido completo del archivo como una sola cadena\n",
    "    texto = file.read()\n",
    "\n",
    "prompt = f\"\"\"\n",
    "    El texto entre triple comilla simple contiene una noticia extraída del diario Financial Times.\n",
    "      Tu tarea es analizarla y crear un resumen con, a lo sumo, 20 palabras. El texto: '''{texto}'''\n",
    "\"\"\"\n",
    "\n",
    "response = get_completion(prompt)\n",
    "\n",
    "print(response)\n",
    "\n",
    "print(f\"El resumen tiene {count_words(response)} palabras\")"
   ]
  },
  {
   "cell_type": "code",
   "execution_count": null,
   "metadata": {},
   "outputs": [],
   "source": []
  }
 ],
 "metadata": {
  "kernelspec": {
   "display_name": "Python 3 (ipykernel)",
   "language": "python",
   "name": "python3"
  },
  "language_info": {
   "codemirror_mode": {
    "name": "ipython",
    "version": 3
   },
   "file_extension": ".py",
   "mimetype": "text/x-python",
   "name": "python",
   "nbconvert_exporter": "python",
   "pygments_lexer": "ipython3",
   "version": "3.11.5"
  }
 },
 "nbformat": 4,
 "nbformat_minor": 2
}
